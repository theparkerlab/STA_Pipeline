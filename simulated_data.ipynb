{
 "cells": [
  {
   "cell_type": "code",
   "execution_count": 14,
   "metadata": {},
   "outputs": [
    {
     "ename": "ValueError",
     "evalue": "The truth value of an array with more than one element is ambiguous. Use a.any() or a.all()",
     "output_type": "error",
     "traceback": [
      "\u001b[1;31m---------------------------------------------------------------------------\u001b[0m",
      "\u001b[1;31mValueError\u001b[0m                                Traceback (most recent call last)",
      "Cell \u001b[1;32mIn[14], line 79\u001b[0m\n\u001b[0;32m     74\u001b[0m tracking_data, spike_times, boundary_angles, boundary_distances \u001b[38;5;241m=\u001b[39m generate_mouse_tracking_data(\n\u001b[0;32m     75\u001b[0m     num_movements, boundary, boundary_angle, preferred_angle, angle_tolerance, preferred_distance, distance_tolerance, max_spike_rate\n\u001b[0;32m     76\u001b[0m )\n\u001b[0;32m     78\u001b[0m \u001b[38;5;66;03m# Extract positions where spikes occurred\u001b[39;00m\n\u001b[1;32m---> 79\u001b[0m spike_positions \u001b[38;5;241m=\u001b[39m [haunch \u001b[38;5;28;01mfor\u001b[39;00m haunch, _ \u001b[38;5;129;01min\u001b[39;00m tracking_data \u001b[38;5;28;01mif\u001b[39;00m spike_times[tracking_data\u001b[38;5;241m.\u001b[39mindex((haunch, _))] \u001b[38;5;241m>\u001b[39m \u001b[38;5;241m0\u001b[39m]\n\u001b[0;32m     80\u001b[0m spike_angles \u001b[38;5;241m=\u001b[39m [boundary_angles[tracking_data\u001b[38;5;241m.\u001b[39mindex((haunch, _))] \u001b[38;5;28;01mfor\u001b[39;00m haunch, _ \u001b[38;5;129;01min\u001b[39;00m tracking_data \u001b[38;5;28;01mif\u001b[39;00m spike_times[tracking_data\u001b[38;5;241m.\u001b[39mindex((haunch, _))] \u001b[38;5;241m>\u001b[39m \u001b[38;5;241m0\u001b[39m]\n\u001b[0;32m     82\u001b[0m \u001b[38;5;66;03m# Convert lists to numpy arrays for plotting\u001b[39;00m\n",
      "Cell \u001b[1;32mIn[14], line 79\u001b[0m, in \u001b[0;36m<listcomp>\u001b[1;34m(.0)\u001b[0m\n\u001b[0;32m     74\u001b[0m tracking_data, spike_times, boundary_angles, boundary_distances \u001b[38;5;241m=\u001b[39m generate_mouse_tracking_data(\n\u001b[0;32m     75\u001b[0m     num_movements, boundary, boundary_angle, preferred_angle, angle_tolerance, preferred_distance, distance_tolerance, max_spike_rate\n\u001b[0;32m     76\u001b[0m )\n\u001b[0;32m     78\u001b[0m \u001b[38;5;66;03m# Extract positions where spikes occurred\u001b[39;00m\n\u001b[1;32m---> 79\u001b[0m spike_positions \u001b[38;5;241m=\u001b[39m [haunch \u001b[38;5;28;01mfor\u001b[39;00m haunch, _ \u001b[38;5;129;01min\u001b[39;00m tracking_data \u001b[38;5;28;01mif\u001b[39;00m spike_times[\u001b[43mtracking_data\u001b[49m\u001b[38;5;241;43m.\u001b[39;49m\u001b[43mindex\u001b[49m\u001b[43m(\u001b[49m\u001b[43m(\u001b[49m\u001b[43mhaunch\u001b[49m\u001b[43m,\u001b[49m\u001b[43m \u001b[49m\u001b[43m_\u001b[49m\u001b[43m)\u001b[49m\u001b[43m)\u001b[49m] \u001b[38;5;241m>\u001b[39m \u001b[38;5;241m0\u001b[39m]\n\u001b[0;32m     80\u001b[0m spike_angles \u001b[38;5;241m=\u001b[39m [boundary_angles[tracking_data\u001b[38;5;241m.\u001b[39mindex((haunch, _))] \u001b[38;5;28;01mfor\u001b[39;00m haunch, _ \u001b[38;5;129;01min\u001b[39;00m tracking_data \u001b[38;5;28;01mif\u001b[39;00m spike_times[tracking_data\u001b[38;5;241m.\u001b[39mindex((haunch, _))] \u001b[38;5;241m>\u001b[39m \u001b[38;5;241m0\u001b[39m]\n\u001b[0;32m     82\u001b[0m \u001b[38;5;66;03m# Convert lists to numpy arrays for plotting\u001b[39;00m\n",
      "\u001b[1;31mValueError\u001b[0m: The truth value of an array with more than one element is ambiguous. Use a.any() or a.all()"
     ]
    }
   ],
   "source": [
    "import numpy as np\n",
    "import matplotlib.pyplot as plt\n",
    "import matplotlib.cm as cm\n",
    "\n",
    "def generate_mouse_tracking_data(num_movements, boundary, boundary_angle, preferred_angle, angle_tolerance, preferred_distance, distance_tolerance, max_spike_rate):\n",
    "    \"\"\"\n",
    "    Generate synthetic tracking data of mouse's center_haunch and center_neck positions,\n",
    "    calculate the angle and distance to a boundary, and generate spike times for an egocentric cell.\n",
    "    \n",
    "    num_movements: Number of random tracking movements to simulate.\n",
    "    boundary: The boundary (as a line or reference point) within which movements occur (e.g., [xmin, xmax, ymin, ymax]).\n",
    "    boundary_angle: The fixed angle of the boundary relative to the mouse's position.\n",
    "    preferred_angle: The preferred angle to the boundary (in degrees) at which the cell spikes.\n",
    "    angle_tolerance: The tolerance (in degrees) around the preferred angle where spiking occurs.\n",
    "    preferred_distance: The preferred distance to the boundary where the cell spikes.\n",
    "    distance_tolerance: The tolerance around the preferred distance where spiking occurs.\n",
    "    max_spike_rate: The maximum spike rate when conditions are optimal.\n",
    "\n",
    "    Returns:\n",
    "    tracking_data: A list of tuples containing (center_haunch, center_neck) for each movement.\n",
    "    spike_times: A list of spike times corresponding to movements.\n",
    "    boundary_angles: A list of angles to the boundary for each movement.\n",
    "    boundary_distances: A list of distances to the boundary for each movement.\n",
    "    \"\"\"\n",
    "    tracking_data = []\n",
    "    spike_times = []\n",
    "    boundary_angles = []\n",
    "    boundary_distances = []\n",
    "\n",
    "    for _ in range(num_movements):\n",
    "        # Generate random positions for center_haunch and center_neck within the boundary\n",
    "        center_haunch = np.array([np.random.uniform(boundary[0], boundary[1]),\n",
    "                                  np.random.uniform(boundary[2], boundary[3])])\n",
    "        center_neck = np.array([np.random.uniform(boundary[0], boundary[1]),\n",
    "                                np.random.uniform(boundary[2], boundary[3])])\n",
    "\n",
    "        tracking_data.append((center_haunch, center_neck))\n",
    "\n",
    "        # Calculate the relative angle and distance to the boundary\n",
    "        boundary_vector = np.array([np.cos(np.radians(boundary_angle)), np.sin(np.radians(boundary_angle))])\n",
    "        movement_vector = center_neck - center_haunch\n",
    "        movement_distance = np.dot(movement_vector, boundary_vector)\n",
    "        movement_angle = np.degrees(np.arctan2(movement_vector[1], movement_vector[0])) % 360\n",
    "\n",
    "        # Store the calculated distance and angle\n",
    "        boundary_angles.append(movement_angle)\n",
    "        boundary_distances.append(abs(movement_distance))\n",
    "\n",
    "        # Determine if the cell should spike based on the preferred angle and distance to the boundary\n",
    "        angle_condition = abs(movement_angle - preferred_angle) <= angle_tolerance\n",
    "        distance_condition = abs(movement_distance - preferred_distance) <= distance_tolerance\n",
    "\n",
    "        # Check if both conditions are met\n",
    "        if angle_condition and distance_condition:\n",
    "            # Generate spike time based on spike rate\n",
    "            spike_time = np.random.poisson(max_spike_rate)\n",
    "            spike_times.append(spike_time)\n",
    "        else:\n",
    "            spike_times.append(0)  # No spike for this movement\n",
    "\n",
    "    return tracking_data, spike_times, boundary_angles, boundary_distances\n",
    "\n",
    "# Example parameters\n",
    "boundary = [0, 100, 0, 100]  # Define the rectangular boundary for movement\n",
    "boundary_angle = 90  # Fixed angle of the boundary relative to the mouse\n",
    "num_movements = 100  # Number of movements to simulate\n",
    "preferred_angle = 45  # Preferred relative angle to the boundary for spiking (in degrees)\n",
    "angle_tolerance = 10  # Angle tolerance (in degrees)\n",
    "preferred_distance = 10  # Preferred distance to the boundary\n",
    "distance_tolerance = 5  # Distance tolerance\n",
    "max_spike_rate = 20  # Maximum spike rate\n",
    "\n",
    "# Generate mouse tracking data, spike times, and relative angles/distances to boundary\n",
    "tracking_data, spike_times, boundary_angles, boundary_distances = generate_mouse_tracking_data(\n",
    "    num_movements, boundary, boundary_angle, preferred_angle, angle_tolerance, preferred_distance, distance_tolerance, max_spike_rate\n",
    ")\n",
    "\n",
    "# Extract positions where spikes occurred\n",
    "spike_positions = [haunch for haunch, _ in tracking_data if spike_times[tracking_data.index((haunch, _))] > 0]\n",
    "spike_angles = [boundary_angles[tracking_data.index((haunch, _))] for haunch, _ in tracking_data if spike_times[tracking_data.index((haunch, _))] > 0]\n",
    "\n",
    "# Convert lists to numpy arrays for plotting\n",
    "spike_positions = np.array(spike_positions)\n",
    "spike_angles = np.array(spike_angles)\n",
    "\n",
    "# Normalize angles to [0, 1] for colormap\n",
    "normalized_angles = spike_angles / 360\n",
    "cmap = cm.hsv\n",
    "\n",
    "# Plot only the center haunch positions where spikes occurred\n",
    "plt.figure(figsize=(8, 8))\n",
    "sc = plt.scatter(spike_positions[:, 0], spike_positions[:, 1], c=normalized_angles, cmap=cmap, s=50, edgecolors='k', alpha=0.7)\n",
    "plt.colorbar(sc, label='Relative Angle to Boundary (Degrees)')\n",
    "\n",
    "plt.title(\"Center Haunch Positions with Spikes Relative to Boundary\")\n",
    "plt.xlabel(\"X Position\")\n",
    "plt.ylabel(\"Y Position\")\n",
    "plt.xlim(boundary[0], boundary[1])\n",
    "plt.ylim(boundary[2], boundary[3])\n",
    "plt.grid(True)\n",
    "plt.show()\n",
    "\n",
    "# Print some example tracking data and corresponding spike times\n",
    "for i in range(len(spike_positions)):\n",
    "    print(f\"Spike {i+1}: Position {spike_positions[i]}, Angle: {spike_angles[i]:.2f}°\")\n"
   ]
  },
  {
   "cell_type": "code",
   "execution_count": 7,
   "metadata": {},
   "outputs": [
    {
     "data": {
      "text/plain": [
       "0"
      ]
     },
     "execution_count": 7,
     "metadata": {},
     "output_type": "execute_result"
    }
   ],
   "source": [
    "sum(spike_times)"
   ]
  }
 ],
 "metadata": {
  "kernelspec": {
   "display_name": "pytorchGLM",
   "language": "python",
   "name": "python3"
  },
  "language_info": {
   "codemirror_mode": {
    "name": "ipython",
    "version": 3
   },
   "file_extension": ".py",
   "mimetype": "text/x-python",
   "name": "python",
   "nbconvert_exporter": "python",
   "pygments_lexer": "ipython3",
   "version": "3.8.0"
  }
 },
 "nbformat": 4,
 "nbformat_minor": 2
}
